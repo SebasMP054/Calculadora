{
  "nbformat": 4,
  "nbformat_minor": 0,
  "metadata": {
    "colab": {
      "provenance": [],
      "authorship_tag": "ABX9TyNwsVJSkcY970UET8L9gX3K",
      "include_colab_link": true
    },
    "kernelspec": {
      "name": "python3",
      "display_name": "Python 3"
    },
    "language_info": {
      "name": "python"
    }
  },
  "cells": [
    {
      "cell_type": "markdown",
      "metadata": {
        "id": "view-in-github",
        "colab_type": "text"
      },
      "source": [
        "<a href=\"https://colab.research.google.com/github/SebasMP054/Calculadora/blob/main/MiProyectoML_inicial.ipynb\" target=\"_parent\"><img src=\"https://colab.research.google.com/assets/colab-badge.svg\" alt=\"Open In Colab\"/></a>"
      ]
    },
    {
      "cell_type": "code",
      "execution_count": 1,
      "metadata": {
        "colab": {
          "base_uri": "https://localhost:8080/"
        },
        "id": "KhnCpbh-7Rd7",
        "outputId": "a9fbd394-266d-44b1-b9c8-3e625c1c13dd"
      },
      "outputs": [
        {
          "output_type": "stream",
          "name": "stdout",
          "text": [
            "Verificando versión de Git:\n",
            "git version 2.34.1\n",
            "\n",
            "---\n",
            "Clonando el repositorio: https://github.com/SebasMP054/MiProyectoColabML.git\n",
            "Cloning into 'MiProyectoColabML'...\n",
            "remote: Enumerating objects: 3, done.\u001b[K\n",
            "remote: Counting objects: 100% (3/3), done.\u001b[K\n",
            "remote: Total 3 (delta 0), reused 0 (delta 0), pack-reused 0 (from 0)\u001b[K\n",
            "Receiving objects: 100% (3/3), done.\n",
            "\n",
            "---\n",
            "Cambiando directorio de trabajo a: /content/MiProyectoColabML\n",
            "Contenido del directorio actual:\n",
            ".  ..  .git  README.md\n",
            "\n",
            "---\n",
            "Configurando usuario y email de Git (solo una vez):\n",
            "Configuración de Git completada.\n"
          ]
        }
      ],
      "source": [
        "# 1. Verificar la versión de Git (Colab ya lo tiene preinstalado)\n",
        "print(\"Verificando versión de Git:\")\n",
        "!git --version\n",
        "print(\"\\n---\")\n",
        "\n",
        "# 2. Clonar el repositorio desde GitHub\n",
        "url_repositorio = \"https://github.com/SebasMP054/MiProyectoColabML.git\"\n",
        "nombre_repositorio = url_repositorio.split('/')[-1].replace('.git', '')\n",
        "\n",
        "print(f\"Clonando el repositorio: {url_repositorio}\")\n",
        "!git clone {url_repositorio}\n",
        "print(\"\\n---\")\n",
        "\n",
        "# 3. Cambiar el directorio de trabajo al repositorio clonado\n",
        "# Esto es CRUCIAL para que los comandos Git se ejecuten dentro del repo\n",
        "import os\n",
        "os.chdir(nombre_repositorio)\n",
        "print(f\"Cambiando directorio de trabajo a: /content/{nombre_repositorio}\")\n",
        "print(\"Contenido del directorio actual:\")\n",
        "!ls -a # '-a' para ver archivos ocultos como .git\n",
        "print(\"\\n---\")\n",
        "\n",
        "# 4. Configurar tu nombre de usuario y correo electrónico de Git\n",
        "print(\"Configurando usuario y email de Git (solo una vez):\")\n",
        "!git config --global user.name \"SebasMP054\"\n",
        "!git config --global user.email \"1521576@senati.pe\"\n",
        "print(\"Configuración de Git completada.\")"
      ]
    },
    {
      "cell_type": "code",
      "source": [
        "# Mueve tu notebook actual (MiProyectoML_inicial.ipynb) al directorio del repositorio\n",
        "# Reemplaza 'MiProyectoML_inicial.ipynb' con el nombre exacto de tu notebook\n",
        "# y 'MiProyectoColabML' con el nombre de tu repositorio\n",
        "nombre_notebook = \"MiProyectoML_inicial.ipynb\" # ¡VERIFICA QUE ESTE ES EL NOMBRE CORRECTO!\n",
        "\n",
        "# Volvemos a la raíz de Colab para mover el archivo\n",
        "os.chdir('/content/')\n",
        "print(f\"Moviendo {nombre_notebook} a {nombre_repositorio}/\")\n",
        "!mv \"{nombre_notebook}\" \"{nombre_repositorio}/\"\n",
        "\n",
        "# Volvemos a entrar al directorio del repositorio para continuar trabajando\n",
        "os.chdir(nombre_repositorio)\n",
        "print(f\"De nuevo en el directorio: /content/{nombre_repositorio}\")\n",
        "!ls # Deberías ver tu notebook aquí ahora"
      ],
      "metadata": {
        "colab": {
          "base_uri": "https://localhost:8080/"
        },
        "id": "8DnBC4ri9U4k",
        "outputId": "0b75158b-b17b-48d4-fca2-f32cbffabc7a"
      },
      "execution_count": 2,
      "outputs": [
        {
          "output_type": "stream",
          "name": "stdout",
          "text": [
            "Moviendo MiProyectoML_inicial.ipynb a MiProyectoColabML/\n",
            "mv: cannot stat 'MiProyectoML_inicial.ipynb': No such file or directory\n",
            "De nuevo en el directorio: /content/MiProyectoColabML\n",
            "README.md\n"
          ]
        }
      ]
    },
    {
      "cell_type": "code",
      "source": [
        "# 1. Verificar el estado de los archivos (Git te mostrará el nuevo notebook)\n",
        "print(\"\\n--- Estado de Git antes de add ---\")\n",
        "!git status\n",
        "\n",
        "# 2. Agregar los archivos al área de preparación (staging area)\n",
        "# El '.' agrega todos los archivos nuevos y modificados\n",
        "print(\"\\n--- Agregando archivos al staging area ---\")\n",
        "!git add .\n",
        "\n",
        "# 3. Verificar el estado nuevamente (debería decir \"changes to be committed\")\n",
        "print(\"\\n--- Estado de Git después de add ---\")\n",
        "!git status\n",
        "\n",
        "# 4. Realizar el commit\n",
        "# El mensaje debe ser descriptivo\n",
        "print(\"\\n--- Realizando commit ---\")\n",
        "!git commit -m \"Initial commit: Added Colab notebook for ML project setup\"\n",
        "\n",
        "# 5. Subir los cambios a GitHub (Push)\n",
        "# 'origin' es el nombre por defecto para tu repositorio remoto en GitHub\n",
        "# 'main' es la rama principal (puede ser 'master' si tu repo es antiguo)\n",
        "print(\"\\n--- Subiendo cambios a GitHub ---\")\n",
        "# Aquí es donde necesitarás tu Token de Acceso Personal (PAT)\n",
        "# Cuando ejecutes esta línea, Colab te pedirá el \"Username\" (pon tu usuario de GitHub)\n",
        "# y \"Password\" (¡pon tu PAT aquí, NO tu contraseña de GitHub!).\n",
        "!git push origin main"
      ],
      "metadata": {
        "colab": {
          "base_uri": "https://localhost:8080/"
        },
        "id": "Ped9J3VH9Z7z",
        "outputId": "fd15a2df-e16e-40c4-d2a5-3b9491513176"
      },
      "execution_count": 4,
      "outputs": [
        {
          "output_type": "stream",
          "name": "stdout",
          "text": [
            "\n",
            "--- Estado de Git antes de add ---\n",
            "On branch main\n",
            "Your branch is up to date with 'origin/main'.\n",
            "\n",
            "nothing to commit, working tree clean\n",
            "\n",
            "--- Agregando archivos al staging area ---\n",
            "\n",
            "--- Estado de Git después de add ---\n",
            "On branch main\n",
            "Your branch is up to date with 'origin/main'.\n",
            "\n",
            "nothing to commit, working tree clean\n",
            "\n",
            "--- Realizando commit ---\n",
            "On branch main\n",
            "Your branch is up to date with 'origin/main'.\n",
            "\n",
            "nothing to commit, working tree clean\n",
            "\n",
            "--- Subiendo cambios a GitHub ---\n",
            "fatal: could not read Username for 'https://github.com': No such device or address\n"
          ]
        }
      ]
    }
  ]
}